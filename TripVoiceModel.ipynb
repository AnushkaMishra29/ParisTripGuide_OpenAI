{
 "cells": [
  {
   "cell_type": "code",
   "execution_count": null,
   "id": "bd78f371-df67-46da-9c31-1c25c929ca9e",
   "metadata": {
    "collapsed": false,
    "executionCancelledAt": null,
    "executionTime": 4691,
    "jupyter": {
     "outputs_hidden": false,
     "source_hidden": false
    },
    "lastExecutedAt": 1699115167242,
    "lastScheduledRunId": null,
    "lastSuccessfullyExecutedCode": "pip install pyttsx3\n",
    "outputsMetadata": {
     "0": {
      "height": 290,
      "type": "stream"
     }
    }
   },
   "outputs": [],
   "source": [
    "pip install pyttsx3"
   ]
  },
  {
   "cell_type": "code",
   "execution_count": 1,
   "id": "af542964-72bd-404b-8689-0ddf2cec72b9",
   "metadata": {
    "executionCancelledAt": null,
    "executionTime": 72,
    "lastExecutedAt": 1699114988664,
    "lastScheduledRunId": null,
    "lastSuccessfullyExecutedCode": "# Start your code here!\nimport os\nimport openai\nimport pyttsx3\nopenai.api_key = os.environ[\"OPENAI\"]"
   },
   "outputs": [],
   "source": [
    "import os\n",
    "import openai\n",
    "import pyttsx3\n",
    "# openai.api_key = os.environ[\"OPENAI\"]\n",
    "openai.api_key = \"YOUR-KEY\"\n"
   ]
  },
  {
   "cell_type": "code",
   "execution_count": 2,
   "metadata": {},
   "outputs": [
    {
     "name": "stdout",
     "output_type": "stream",
     "text": [
      "Voice:\n",
      " - ID: HKEY_LOCAL_MACHINE\\SOFTWARE\\Microsoft\\Speech\\Voices\\Tokens\\TTS_MS_ES-ES_HELENA_11.0\n",
      " - Name: Microsoft Helena Desktop - Spanish (Spain)\n",
      "Voice:\n",
      " - ID: HKEY_LOCAL_MACHINE\\SOFTWARE\\Microsoft\\Speech\\Voices\\Tokens\\TTS_MS_EN-US_ZIRA_11.0\n",
      " - Name: Microsoft Zira Desktop - English (United States)\n"
     ]
    }
   ],
   "source": [
    "# Initialize the text-to-speech engine\n",
    "engine = pyttsx3.init()\n",
    "voices = engine.getProperty('voices')\n",
    "for voice in voices:\n",
    "    print(\"Voice:\")\n",
    "    print(\" - ID: %s\" % voice.id)\n",
    "    print(\" - Name: %s\" % voice.name)"
   ]
  },
  {
   "cell_type": "code",
   "execution_count": 3,
   "id": "65bee050-80c5-4cc4-89c1-5213b5ce3dc7",
   "metadata": {
    "executionCancelledAt": null,
    "executionTime": 160,
    "lastExecutedAt": 1699115172129,
    "lastScheduledRunId": null,
    "lastSuccessfullyExecutedCode": "import pyttsx3\nimport openai\n\n# Define the model to use\nmodel = \"gpt-3.5-turbo\"\n\n# Define the conversation\nconversation = [\n  {\n    \"role\": \"system\",\n    \"content\": \"You are a travel guide providing information about landmarks in Paris. Speak in an informative and engaging manner.\"\n  },\n  {\n    \"role\": \"user\",\n    \"content\": \"Can you tell me about the most famous landmark in Paris?\"\n  },\n  {\n    \"role\": \"assistant\",\n    \"content\": \"Certainly! The most famous landmark in Paris is the Eiffel Tower. Would you like to know more about its history and architectural features?\"\n  }\n]\n\n\n# Define a list of questions\nquestions = [\n    \"How far away is the Louvre from the Eiffel Tower (in driving miles)?\",\n    \"Where is the Arc de Triomphe?\",\n    \"What are the must-see artworks at the Louvre Museum?\"\n]\n\n# Initialize the text-to-speech engine\nengine = pyttsx3.init()\n\n# Set the language to English\nengine.setProperty('rate', 150)  # Speech rate (adjustable)\nengine.setProperty('volume', 1)  # Volume (adjustable)\nengine.setProperty('voice', 'english')  # English voice (adjustable)\n\n\n# Loop through each question to generate responses\nfor question in questions:\n\n    input_dict = {\"role\": \"user\",\n                  \"content\": question}\n    \n    conversation.append(input_dict)  \n\n    # API call\n    response = openai.ChatCompletion.create(\n        model=model,\n        messages=conversation,\n        temperature=0.0,\n        max_tokens=100\n    )\n    \n    resp = response.choices[0]['message']['content']\n    print(resp, '\\n')\n    \n    # Read the text aloud\n    engine.say(resp)\n\n    # Wait until the reading is complete\n    engine.run()\n\n    resp_dict = {\"role\": \"assistant\",\n                 \"content\": resp}\n    \n    # Append the response to the conversation\n    conversation.append(resp_dict)",
    "outputsMetadata": {
     "0": {
      "height": 602,
      "type": "stream"
     }
    }
   },
   "outputs": [
    {
     "name": "stdout",
     "output_type": "stream",
     "text": [
      "The Louvre Museum is located approximately 2.5 miles away from the Eiffel Tower. However, please note that driving in central Paris can be quite challenging due to traffic and limited parking options. It is often more convenient to use public transportation, such as the metro or buses, to travel between these two iconic landmarks. \n",
      "\n",
      "The Arc de Triomphe is located at the western end of the Champs-Élysées, one of the most famous avenues in Paris. It stands proudly in the center of the Place Charles de Gaulle, also known as the Étoile, which is a large roundabout where twelve major avenues converge. The Arc de Triomphe serves as a symbol of French national pride and commemorates the victories of the French army, particularly during the Napoleonic era. It is a magnificent \n",
      "\n",
      "The Louvre Museum is home to an extensive collection of artworks spanning thousands of years. While it's difficult to narrow down the must-see artworks, here are a few iconic pieces that you shouldn't miss:\n",
      "\n",
      "1. Leonardo da Vinci's \"Mona Lisa\": This enigmatic portrait is one of the most famous paintings in the world. Admire the subtle details and the mysterious smile of the subject.\n",
      "\n",
      "2. Michelangelo's \"Dying Slave\" and \"Rebellious Slave\": These \n",
      "\n"
     ]
    }
   ],
   "source": [
    "# Define the model to use\n",
    "model = \"gpt-3.5-turbo\"\n",
    "\n",
    "# Define the conversation\n",
    "conversation = [\n",
    "  {\n",
    "    \"role\": \"system\",\n",
    "    \"content\": \"You are a travel guide providing information about landmarks in Paris. Speak in an informative and engaging manner.\"\n",
    "  },\n",
    "  {\n",
    "    \"role\": \"user\",\n",
    "    \"content\": \"Can you tell me about the most famous landmark in Paris?\"\n",
    "  },\n",
    "  {\n",
    "    \"role\": \"assistant\",\n",
    "    \"content\": \"Certainly! The most famous landmark in Paris is the Eiffel Tower. Would you like to know more about its history and architectural features?\"\n",
    "  }\n",
    "]\n",
    "\n",
    "\n",
    "# Define a list of questions\n",
    "questions = [\n",
    "    \"How far away is the Louvre from the Eiffel Tower (in driving miles)?\",\n",
    "    \"Where is the Arc de Triomphe?\",\n",
    "    \"What are the must-see artworks at the Louvre Museum?\"\n",
    "]\n",
    "\n",
    "\n",
    "# Set the language to English\n",
    "engine.setProperty('rate', 150)  # Speech rate (adjustable)\n",
    "engine.setProperty('volume', 1)  # Volume (adjustable)\n",
    "en_voice_id = \"HKEY_LOCAL_MACHINE\\SOFTWARE\\Microsoft\\Speech\\Voices\\Tokens\\TTS_MS_EN-US_ZIRA_11.0\"\n",
    "engine.setProperty('voice', en_voice_id)  # English voice (adjustable)\n",
    "\n",
    "# Loop through each question to generate responses\n",
    "for question in questions:\n",
    "\n",
    "    input_dict = {\"role\": \"user\",\n",
    "                  \"content\": question}\n",
    "    \n",
    "    conversation.append(input_dict)  \n",
    "\n",
    "    # API call\n",
    "    response = openai.ChatCompletion.create(\n",
    "        model=model,\n",
    "        messages=conversation,\n",
    "        temperature=0.0,\n",
    "        max_tokens=100\n",
    "    )\n",
    "    \n",
    "    resp = response.choices[0]['message']['content']\n",
    "    print(resp, '\\n')\n",
    "    \n",
    "    # Read the text aloud\n",
    "    engine.say(resp)\n",
    "\n",
    "    # Wait until the reading is complete\n",
    "    engine.runAndWait()\n",
    "\n",
    "    resp_dict = {\"role\": \"assistant\",\n",
    "                 \"content\": resp}\n",
    "    \n",
    "    # Append the response to the conversation\n",
    "    conversation.append(resp_dict)"
   ]
  }
 ],
 "metadata": {
  "colab": {
   "name": "Welcome to DataCamp Workspaces.ipynb",
   "provenance": []
  },
  "kernelspec": {
   "display_name": "Python 3 (ipykernel)",
   "language": "python",
   "name": "python3"
  },
  "language_info": {
   "codemirror_mode": {
    "name": "ipython",
    "version": 3
   },
   "file_extension": ".py",
   "mimetype": "text/x-python",
   "name": "python",
   "nbconvert_exporter": "python",
   "pygments_lexer": "ipython3",
   "version": "3.9.7"
  }
 },
 "nbformat": 4,
 "nbformat_minor": 5
}
